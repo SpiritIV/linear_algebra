{
 "cells": [
  {
   "cell_type": "code",
   "execution_count": 1,
   "metadata": {},
   "outputs": [],
   "source": [
    "class Matrix():\n",
    "    def __init__(self):\n",
    "        print(\"Программа работает только со случаем равного числа уравнений и неизвестных!\")\n",
    "        self.rows = int(input(\"Введите количество строк : \"))\n",
    "        self.col = int(input(\"Введите количество столбцов (вместе с элементами матрицы b): \"))\n",
    "        self.matrix = []\n",
    "    \n",
    "    def get_elements(self):\n",
    "        for i in range(self.rows):\n",
    "            current_row = input(f\"Введите элементы {i} строки через пробел. Количество элементов равно {self.col}: \")\n",
    "            self.matrix.append([int(item) for item in current_row.split()])\n",
    "        \n",
    "        while True:\n",
    "            show_matrix(self.matrix)\n",
    "            flag = int(input(\"Все ли элементы матрицы введены верно (0-нет, 1-да): \"))\n",
    "            if flag == 0:\n",
    "                num = input(\"Введите номер элемента, который нужно изменить в формате 'строка столбец': \")\n",
    "                elem = [int(item) for item in num.split()]\n",
    "                self.matrix[elem[0]][elem[1]]\n",
    "            else:\n",
    "                break\n",
    "        \n",
    "        return self.matrix\n",
    "        "
   ]
  },
  {
   "cell_type": "code",
   "execution_count": 2,
   "metadata": {},
   "outputs": [],
   "source": [
    "def show_matrix(matrix):\n",
    "    for i in range(len(matrix)):\n",
    "        print(f\"{matrix[i]} \")"
   ]
  },
  {
   "cell_type": "code",
   "execution_count": 3,
   "metadata": {},
   "outputs": [
    {
     "name": "stdout",
     "output_type": "stream",
     "text": [
      "Программа работает только со случаем равного числа уравнений и неизвестных!\n",
      "Введите количество строк : 2\n",
      "Введите количество столбцов (вместе с элементами матрицы b): 3\n",
      "Введите элементы 0 строки через пробел. Количество элементов равно 3: 1 2 3\n",
      "Введите элементы 1 строки через пробел. Количество элементов равно 3: 4 5 6\n",
      "[1, 2, 3] \n",
      "[4, 5, 6] \n",
      "Все ли элементы матрицы введены верно (0-нет, 1-да): 1\n",
      "[1, 2, 3] \n",
      "[4, 5, 6] \n"
     ]
    }
   ],
   "source": [
    "mat = Matrix()\n",
    "matrix = mat.get_elements()\n",
    "show_matrix(matrix)"
   ]
  },
  {
   "cell_type": "code",
   "execution_count": 4,
   "metadata": {},
   "outputs": [],
   "source": [
    "class LinalgEquations():\n",
    "    def __init__(self, matrix_local):\n",
    "        self.matrix_local = matrix_local\n",
    "        self.result = [[0] for i in range(len(self.matrix_local[0])-1)]\n",
    "        \n",
    "    def scalar_product(self, vector_string, vector_column):\n",
    "        local_sum = 0\n",
    "\n",
    "        for i in range(len(vector_string)):\n",
    "            local_sum += vector_string[i] * vector_column[i][0]\n",
    "\n",
    "        return local_sum\n",
    "    \n",
    "    def gaus(self):\n",
    "        for i in range(len(self.matrix_local[0])-1):\n",
    "            for j in range(i+1, len(self.matrix_local)):\n",
    "                coef = self.matrix_local[j][i] / self.matrix_local[i][i]\n",
    "                for k in range(len(self.matrix_local[0])):\n",
    "                    self.matrix_local[j][k] = self.matrix_local[j][k] - self.matrix_local[i][k]*coef      \n",
    "        \n",
    "        show_matrix(self.matrix_local)\n",
    "        i = len(self.matrix_local)\n",
    "        j = 2 \n",
    "        \n",
    "        while i > 0:\n",
    "            i -= 1\n",
    "            vector_A = [item for item in self.matrix_local[i]]\n",
    "            b = vector_A.pop()\n",
    "            a_x = vector_A[len(self.matrix_local[0]) - j]\n",
    "            j += 1\n",
    "            \n",
    "            if a_x != 0:\n",
    "                self.result[i][0] = (b - self.scalar_product(vector_A, self.result))/a_x\n",
    "            else:\n",
    "                print(f'Коэффициент перед x равен 0. Система имеет любые решения')\n",
    "                break\n",
    "                \n",
    "    def show_result(self):\n",
    "        for i, item in enumerate(self.result):\n",
    "            print(f'x{i+1} = {item}')\n",
    "        "
   ]
  },
  {
   "cell_type": "code",
   "execution_count": 6,
   "metadata": {},
   "outputs": [
    {
     "name": "stdout",
     "output_type": "stream",
     "text": [
      "[1, 2, 3] \n",
      "[0.0, -3.0, -6.0] \n",
      "x1 = [-1.0]\n",
      "x2 = [2.0]\n"
     ]
    }
   ],
   "source": [
    "matrix_1 = matrix[:]\n",
    "lin_gaus = LinalgEquations(matrix_1)\n",
    "lin_gaus.gaus()\n",
    "lin_gaus.show_result()"
   ]
  },
  {
   "cell_type": "code",
   "execution_count": null,
   "metadata": {},
   "outputs": [],
   "source": []
  }
 ],
 "metadata": {
  "kernelspec": {
   "display_name": "Python 3",
   "language": "python",
   "name": "python3"
  },
  "language_info": {
   "codemirror_mode": {
    "name": "ipython",
    "version": 3
   },
   "file_extension": ".py",
   "mimetype": "text/x-python",
   "name": "python",
   "nbconvert_exporter": "python",
   "pygments_lexer": "ipython3",
   "version": "3.7.1"
  }
 },
 "nbformat": 4,
 "nbformat_minor": 4
}
